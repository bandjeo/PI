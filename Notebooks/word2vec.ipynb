{
 "cells": [
  {
   "cell_type": "code",
   "execution_count": 2,
   "metadata": {},
   "outputs": [],
   "source": [
    "import os\n",
    "import codecs\n",
    "import re\n",
    "import time\n",
    "import numpy as np\n",
    "from sklearn.feature_extraction.text import TfidfVectorizer\n",
    "from sklearn.metrics.pairwise import cosine_similarity\n",
    "import string\n",
    "from gensim.test.utils import common_texts\n",
    "\n",
    "from gensim.models import Word2Vec"
   ]
  },
  {
   "cell_type": "code",
   "execution_count": 3,
   "metadata": {},
   "outputs": [],
   "source": [
    "stopwords = [\"баш\",\"без\",\"биће\",\"био\",\"бити\",\"близу\",\"број\",\"дана\",\"данас\",\"доћи\",\"добар\",\"добити\",\"док\",\"доле\",\"дошао\",\"други\",\"дуж\",\"два\",\"често\",\"чији\",\"где\",\"горе\",\"хвала\",\"и\",\"ићи\",\"иако\",\"иде\",\"има\",\"имам\",\"имао\",\"испод\",\"између\",\"изнад\",\"изван\",\"изволи\",\"један\",\"једини\",\"једном\",\"јесте\",\"још\",\"јуче\",\"кад\",\"како\",\"као\",\"кога\",\"која\",\"које\",\"који\",\"кроз\",\"мали\",\"мањи\",\"мисли\",\"много\",\"моћи\",\"могу\",\"мора\",\"морао\",\"на\",\"наћи\",\"наш\",\"негде\",\"него\",\"некад\",\"неки\",\"немам\",\"нешто\",\"није\",\"ниједан\",\"никада\",\"нисмо\",\"ништа\",\"њега\",\"његов\",\"њен\",\"њих\",\"њихов\",\"око\",\"около\",\"она\",\"онај\",\"они\",\"оно\",\"осим\",\"остали\",\"отишао\",\"овако\",\"овамо\",\"овде\",\"ове\",\"ово\",\"о\",\"питати\",\"почетак\",\"поједини\",\"после\",\"поводом\",\"правити\",\"пре\",\"преко\",\"према\",\"први\",\"пут\",\"радије\",\"сада\",\"смети\",\"шта\",\"ствар\",\"стварно\",\"сутра\",\"сваки\",\"све\",\"свим\",\"свугде\",\"тачно\",\"тада\",\"тај\",\"такође\",\"тамо\",\"тим\", \"у\", \"учинио\",\"учинити\",\"умало\",\"унутра\",\"употребити\",\"узети\",\"ваш\",\"већина\",\"веома\",\"видео\",\"више\",\"захвалити\",\"зашто\",\"због\",\"желео\",\"жели\",\"знати\"]"
   ]
  },
  {
   "cell_type": "code",
   "execution_count": 4,
   "metadata": {},
   "outputs": [],
   "source": [
    "dataset_path = '../acts'\n",
    "dataset = {}\n",
    "TAG_RE = re.compile(r'<[^>]+>')\n",
    "for file_path in os.listdir(dataset_path):\n",
    "    with codecs.open(os.path.join(dataset_path, file_path), 'r', encoding='utf-8') as f:\n",
    "        data = f.read()\n",
    "        data = data.lower() #lowercase\n",
    "        data = TAG_RE.sub('', data) #remove html tags\n",
    "        data = data.translate(str.maketrans('', '', string.punctuation + \"„”\")) #remove punctuation\n",
    "        data_split = data.split() #remove extra whitespaces\n",
    "        data_split = [word for word in data_split if word not in stopwords and not word.isnumeric()]\n",
    "#         data = \" \".join(data_split)\n",
    "        dataset[file_path] = data_split"
   ]
  },
  {
   "cell_type": "code",
   "execution_count": 191,
   "metadata": {},
   "outputs": [
    {
     "name": "stdout",
     "output_type": "stream",
     "text": [
      "1275.html ['\\ufeff', 'zakon', 'основу', 'члана', 'став', 'тачка', 'устава', 'републике', 'србије', 'доносим']\n"
     ]
    }
   ],
   "source": [
    "for key, data in dataset.items():\n",
    "    print(key, data[:10])\n",
    "    break"
   ]
  },
  {
   "cell_type": "code",
   "execution_count": 5,
   "metadata": {},
   "outputs": [],
   "source": [
    "corpus = list(dataset.values())\n",
    "model = Word2Vec(sentences=corpus, size=300, window=5, min_count=4, workers=4)"
   ]
  },
  {
   "cell_type": "code",
   "execution_count": 209,
   "metadata": {},
   "outputs": [
    {
     "data": {
      "text/plain": [
       "300"
      ]
     },
     "execution_count": 209,
     "metadata": {},
     "output_type": "execute_result"
    }
   ],
   "source": [
    "model.wv.most_similar('педофилија')"
   ]
  },
  {
   "cell_type": "code",
   "execution_count": 6,
   "metadata": {},
   "outputs": [],
   "source": [
    "def dataset_to_vectors(dataset, model):\n",
    "    \"\"\"Changes the values in dataset. Returns X which is just the values from the dataset\"\"\"\n",
    "    for key, value in dataset.items():\n",
    "        wordvecs = []\n",
    "        for word in value:\n",
    "            try:\n",
    "                wordvecs.append(model.wv[word])\n",
    "            except KeyError:\n",
    "                continue\n",
    "        wordvecs_mean = np.array(300*[0.])\n",
    "        if (wordvecs):\n",
    "            wordvecs_mean = np.array(wordvecs).sum(axis=0) / float(len(wordvecs))\n",
    "        dataset[key] = wordvecs_mean\n",
    "    X = list(dataset.values())\n",
    "    return X"
   ]
  },
  {
   "cell_type": "code",
   "execution_count": 7,
   "metadata": {},
   "outputs": [],
   "source": [
    "X = dataset_to_vectors(dataset, model)"
   ]
  },
  {
   "cell_type": "code",
   "execution_count": 8,
   "metadata": {},
   "outputs": [],
   "source": [
    "def query_to_vec(query, model):\n",
    "    query = query.lower() #lowercase\n",
    "    query = TAG_RE.sub('', query) #remove html tags\n",
    "    query = query.translate(str.maketrans('', '', string.punctuation + \"„”\")) #remove punctuation\n",
    "    query_split = query.split() #remove extra whitespaces\n",
    "    query_split = [word for word in query_split if word not in stopwords and not word.isnumeric()]\n",
    "    wordvecs = []\n",
    "    for word in query_split:\n",
    "        try:\n",
    "            wordvecs.append(model.wv[word])\n",
    "        except KeyError:\n",
    "            print(f'{word} not in vocabulary')\n",
    "            continue\n",
    "    if wordvecs:\n",
    "        wordvecs_mean = np.array(wordvecs).sum(axis=0) / float(len(wordvecs))\n",
    "        return wordvecs_mean\n",
    "    else:\n",
    "        raise ValueError('No words from the query are present in the model vocabulary')        "
   ]
  },
  {
   "cell_type": "code",
   "execution_count": 9,
   "metadata": {},
   "outputs": [],
   "source": [
    "def calculate_similarity_word2vec(X, model, query, top_k=10):\n",
    "    \"\"\" Vectorizes the `query` via `query_to_vec` and calculates the cosine similarity of\n",
    "    the `query` and `X` (all the documents) and returns the `top_k` similar documents.\"\"\"\n",
    "\n",
    "    # Vectorize the query to the same length as documents\n",
    "    query_vec = query_to_vec(query, model)\n",
    "    query_vec = query_vec.reshape(1,-1)\n",
    "    # Compute the cosine similarity between query_vec and all the documents\n",
    "    cosine_similarities = cosine_similarity(X,query_vec).flatten()\n",
    "    # Sort the similar documents from the most similar to less similar and return the indices\n",
    "    most_similar_doc_indices = np.argsort(cosine_similarities, axis=0)[:-top_k-1:-1]\n",
    "    return (most_similar_doc_indices, cosine_similarities)"
   ]
  },
  {
   "cell_type": "code",
   "execution_count": 10,
   "metadata": {},
   "outputs": [],
   "source": [
    "def show_similar_documents(df, cosine_similarities, similar_doc_indices):\n",
    "    \"\"\" Prints the most similar documents using indices in the `similar_doc_indices` vector.\"\"\"\n",
    "    counter = 1\n",
    "    for index in similar_doc_indices:\n",
    "        print('Top-{}, Similarity = {}'.format(counter, cosine_similarities[index]))\n",
    "        print('body: {}, '.format(df[index]))\n",
    "        print()\n",
    "        counter += 1"
   ]
  },
  {
   "cell_type": "code",
   "execution_count": 11,
   "metadata": {},
   "outputs": [
    {
     "name": "stdout",
     "output_type": "stream",
     "text": [
      "search time: 6.62 ms\n",
      "\n",
      "Top-1, Similarity = 0.5576452016830444\n",
      "body: 269.html, \n",
      "\n",
      "Top-2, Similarity = 0.5530537366867065\n",
      "body: 263.html, \n",
      "\n",
      "Top-3, Similarity = 0.53718501329422\n",
      "body: 285.html, \n",
      "\n",
      "Top-4, Similarity = 0.5369895696640015\n",
      "body: 254.html, \n",
      "\n",
      "Top-5, Similarity = 0.5312166213989258\n",
      "body: 257.html, \n",
      "\n",
      "Top-6, Similarity = 0.5292628407478333\n",
      "body: 274.html, \n",
      "\n",
      "Top-7, Similarity = 0.5212404131889343\n",
      "body: 266.html, \n",
      "\n",
      "Top-8, Similarity = 0.4995863735675812\n",
      "body: 256.html, \n",
      "\n",
      "Top-9, Similarity = 0.4900858402252197\n",
      "body: 278.html, \n",
      "\n",
      "Top-10, Similarity = 0.4885120093822479\n",
      "body: 287.html, \n",
      "\n"
     ]
    }
   ],
   "source": [
    "user_question = 'порез казна камата'\n",
    "search_start = time.time()\n",
    "sim_vecs, cosine_similarities = calculate_similarity_word2vec(X, model, user_question)\n",
    "search_time = time.time() - search_start\n",
    "print(\"search time: {:.2f} ms\".format(search_time * 1000))\n",
    "print()\n",
    "show_similar_documents(list(dataset.keys()), cosine_similarities, sim_vecs)"
   ]
  },
  {
   "cell_type": "code",
   "execution_count": 237,
   "metadata": {},
   "outputs": [],
   "source": [
    "query = '''\n",
    " ЗАКОН\n",
    "\n",
    "о давању контрагаранције Републике Србије Србији и Црној Гори по кредиту Међународног удружења за развој (Кредит за развој приватног и финансијског сектора)\n",
    "\n",
    "„Службени гласник РС”, број 34 од 18. априла 2006.\n",
    "\n",
    "Члан 1.\n",
    "\n",
    "Република Србија преузима обавезу да као контрагарант измири обавезе Србије и Црне Горе, у износу од 68.100.000,00 специјалних права вучења, по основу Споразума о кредиту за развој – Кредит за развој приватног и финансијског сектора између Савезне Републике Југославије и Међународног удружења за развој, потписаног 4. јуна 2002. године, који је потврђен Законом о потврђивању Споразума о кредиту за развој – Кредит за развој приватног и финансијског сектора између Савезне Републике Југославије и Међународног удружења за развој („Службени лист СРЈ – Међународни уговори”, број 6/02).\n",
    "\n",
    "Члан 2.\n",
    "\n",
    "Контрагаранција из члана 1. овог закона даје се Србији и Црној Гори, на име обавезе из Закона о задужењу Савезне Републике Југославије код Међународног удружења за развој („Службени лист СРЈ”, број 36/02).\n",
    "\n",
    "Члан 3.\n",
    "\n",
    "Корисник кредита по основу Споразума о кредиту за развој из члана 1. овог закона је Република Србија (у даљем тексту: Корисник кредита).\n",
    "\n",
    "Члан 4.\n",
    "\n",
    "Средства за отплату кредита по основу Споразума о кредиту за развој из члана 1. овог закона, обезбедиће Корисник кредита.\n",
    "\n",
    "Корисник кредита је дужан да средства за отплату кредита обезбеђује према плану отплате за сва повучена средства, у износу који укључује доспелу главницу, трошкове на одобрена средства, манипулативне трошкове кредита и остале трошкове.\n",
    "\n",
    "Корисник кредита ће обезбеђивати отплату кредита у буџету Републике Србије и вршити уплату доспелих обавеза на посебан рачун Србије и Црне Горе код Народне банке Србије, са искључивом наменом отплате кредита.\n",
    "\n",
    "Члан 5.\n",
    "\n",
    "Овај закон ступа на снагу осмог дана од дана објављивања у „Службеном гласнику Републике Србије”.\n",
    "'''"
   ]
  }
 ],
 "metadata": {
  "kernelspec": {
   "display_name": "Python 3",
   "language": "python",
   "name": "python3"
  },
  "language_info": {
   "codemirror_mode": {
    "name": "ipython",
    "version": 3
   },
   "file_extension": ".py",
   "mimetype": "text/x-python",
   "name": "python",
   "nbconvert_exporter": "python",
   "pygments_lexer": "ipython3",
   "version": "3.8.3"
  }
 },
 "nbformat": 4,
 "nbformat_minor": 4
}
