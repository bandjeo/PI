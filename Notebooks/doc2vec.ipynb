{
 "cells": [
  {
   "cell_type": "code",
   "execution_count": 1,
   "metadata": {},
   "outputs": [],
   "source": [
    "import os\n",
    "import codecs\n",
    "import re\n",
    "import time\n",
    "import numpy as np\n",
    "from sklearn.feature_extraction.text import TfidfVectorizer\n",
    "from sklearn.metrics.pairwise import cosine_similarity\n",
    "import string\n",
    "from gensim.test.utils import common_texts\n",
    "\n",
    "from gensim.models.doc2vec import Doc2Vec, TaggedDocument"
   ]
  },
  {
   "cell_type": "code",
   "execution_count": 2,
   "metadata": {},
   "outputs": [],
   "source": [
    "stopwords = [\"баш\",\"без\",\"биће\",\"био\",\"бити\",\"близу\",\"број\",\"дана\",\"данас\",\"доћи\",\"добар\",\"добити\",\"док\",\"доле\",\"дошао\",\"други\",\"дуж\",\"два\",\"често\",\"чији\",\"где\",\"горе\",\"хвала\",\"и\",\"ићи\",\"иако\",\"иде\",\"има\",\"имам\",\"имао\",\"испод\",\"између\",\"изнад\",\"изван\",\"изволи\",\"један\",\"једини\",\"једном\",\"јесте\",\"још\",\"јуче\",\"кад\",\"како\",\"као\",\"кога\",\"која\",\"које\",\"који\",\"кроз\",\"мали\",\"мањи\",\"мисли\",\"много\",\"моћи\",\"могу\",\"мора\",\"морао\",\"на\",\"наћи\",\"наш\",\"негде\",\"него\",\"некад\",\"неки\",\"немам\",\"нешто\",\"није\",\"ниједан\",\"никада\",\"нисмо\",\"ништа\",\"њега\",\"његов\",\"њен\",\"њих\",\"њихов\",\"око\",\"около\",\"она\",\"онај\",\"они\",\"оно\",\"осим\",\"остали\",\"отишао\",\"овако\",\"овамо\",\"овде\",\"ове\",\"ово\",\"о\",\"питати\",\"почетак\",\"поједини\",\"после\",\"поводом\",\"правити\",\"пре\",\"преко\",\"према\",\"први\",\"пут\",\"радије\",\"сада\",\"смети\",\"шта\",\"ствар\",\"стварно\",\"сутра\",\"сваки\",\"све\",\"свим\",\"свугде\",\"тачно\",\"тада\",\"тај\",\"такође\",\"тамо\",\"тим\", \"у\", \"учинио\",\"учинити\",\"умало\",\"унутра\",\"употребити\",\"узети\",\"ваш\",\"већина\",\"веома\",\"видео\",\"више\",\"захвалити\",\"зашто\",\"због\",\"желео\",\"жели\",\"знати\"]"
   ]
  },
  {
   "cell_type": "code",
   "execution_count": 4,
   "metadata": {},
   "outputs": [],
   "source": [
    "dataset_path = '../webapp/public/acts'\n",
    "dataset = {}\n",
    "TAG_RE = re.compile(r'<[^>]+>')\n",
    "for file_path in os.listdir(dataset_path):\n",
    "    with codecs.open(os.path.join(dataset_path, file_path), 'r', encoding='utf-8') as f:\n",
    "        data = f.read()\n",
    "        data = data.lower() #lowercase\n",
    "        data = TAG_RE.sub('', data) #remove html tags\n",
    "        data = data.translate(str.maketrans('', '', string.punctuation + \"„”\")) #remove punctuation\n",
    "        data_split = data.split() #remove extra whitespaces\n",
    "        data_split = [word for word in data_split if word not in stopwords and not word.isnumeric()]\n",
    "#         data = \" \".join(data_split)\n",
    "        dataset[file_path] = data_split"
   ]
  },
  {
   "cell_type": "code",
   "execution_count": 5,
   "metadata": {},
   "outputs": [
    {
     "name": "stdout",
     "output_type": "stream",
     "text": [
      "1.html ['\\ufeff', 'закон', 'изгледу', 'употреби', 'грба', 'заставе', 'химне', 'републике', 'србије', '“службени']\n"
     ]
    }
   ],
   "source": [
    "for key, data in dataset.items():\n",
    "    print(key, data[:10])\n",
    "    break"
   ]
  },
  {
   "cell_type": "code",
   "execution_count": 6,
   "metadata": {},
   "outputs": [],
   "source": [
    "documents = [TaggedDocument(doc, [i]) for i, doc in enumerate(list(dataset.values()))]\n",
    "model = Doc2Vec(documents, vector_size=100, negative=0, window=2, min_count=1, workers=4)"
   ]
  },
  {
   "cell_type": "code",
   "execution_count": 7,
   "metadata": {},
   "outputs": [
    {
     "data": {
      "text/plain": [
       "array([ 0.00289631,  0.00098572,  0.00212842,  0.00487264,  0.00133219,\n",
       "       -0.00445357, -0.00078048,  0.00382822,  0.00384407, -0.00290739,\n",
       "        0.00207453, -0.00178721, -0.00358715,  0.00104854, -0.00362849,\n",
       "       -0.00470848, -0.00283718, -0.00307637,  0.00352699, -0.00119379,\n",
       "       -0.00237988,  0.00467369,  0.00020195, -0.00365505, -0.00399631,\n",
       "        0.00223017,  0.00169127,  0.0028409 ,  0.00274204, -0.00353623,\n",
       "       -0.00110818, -0.00173368,  0.00263991, -0.00054317, -0.00130613,\n",
       "        0.00318474, -0.00186193, -0.00310255,  0.00411451, -0.00172306,\n",
       "       -0.00416808,  0.00400786, -0.0021083 , -0.00473565, -0.00037968,\n",
       "       -0.00300644, -0.00423395, -0.0047799 , -0.00098583, -0.00061441,\n",
       "       -0.00410193,  0.00461551, -0.0025158 ,  0.00199274, -0.00168746,\n",
       "       -0.00126515,  0.00468511,  0.00023907,  0.00310504,  0.00308767,\n",
       "        0.00147667, -0.00017743,  0.00167538,  0.00382277,  0.00281358,\n",
       "       -0.00261167, -0.00029648, -0.00032118, -0.00154835,  0.00064149,\n",
       "        0.00283609, -0.00156176,  0.00381418, -0.00450473, -0.00418956,\n",
       "        0.0045349 ,  0.00468944,  0.00216697,  0.00175306, -0.00159082,\n",
       "        0.00047795,  0.00497299, -0.00235872, -0.00063682,  0.00262511,\n",
       "       -0.00416686,  0.00415354, -0.00053458,  0.00125697, -0.00480553,\n",
       "        0.00412116, -0.00017884, -0.00433039, -0.000697  , -0.00417263,\n",
       "        0.00101626,  0.00212685,  0.0030281 ,  0.00487192, -0.00486846],\n",
       "      dtype=float32)"
      ]
     },
     "execution_count": 7,
     "metadata": {},
     "output_type": "execute_result"
    }
   ],
   "source": [
    "model.infer_vector([\"закон\", \"порез\"])\n"
   ]
  },
  {
   "cell_type": "code",
   "execution_count": 70,
   "metadata": {},
   "outputs": [],
   "source": [
    "def dataset_to_vectors(dataset, model):\n",
    "    for key, value in dataset.items():\n",
    "        dataset[key] = model.infer_vector(value)\n",
    "    X = list(dataset.values())\n",
    "    return X"
   ]
  },
  {
   "cell_type": "code",
   "execution_count": 74,
   "metadata": {},
   "outputs": [],
   "source": [
    "X = dataset_to_vectors(dataset, model)"
   ]
  },
  {
   "cell_type": "code",
   "execution_count": 30,
   "metadata": {},
   "outputs": [],
   "source": [
    "def query_to_vec(query, model):\n",
    "    query = query.lower() #lowercase\n",
    "    query = TAG_RE.sub('', query) #remove html tags\n",
    "    query = query.translate(str.maketrans('', '', string.punctuation + \"„”\")) #remove punctuation\n",
    "    query_split = query.split() #remove extra whitespaces\n",
    "    query_split = [word for word in query_split if word not in stopwords and not word.isnumeric()]\n",
    "    docvec = model.infer_vector(query_split)\n",
    "    return docvec"
   ]
  },
  {
   "cell_type": "code",
   "execution_count": 46,
   "metadata": {},
   "outputs": [
    {
     "name": "stdout",
     "output_type": "stream",
     "text": [
      "[-0.02886382  0.02860318 -0.0247639  -0.01801156  0.01211615  0.02293156\n",
      "  0.01966118  0.02603403 -0.00643078 -0.03078434 -0.00472696  0.01638502\n",
      " -0.02721033  0.02826599 -0.0420025   0.00410564 -0.00599293 -0.06052358\n",
      "  0.02349789 -0.02827974  0.01714233 -0.07583176  0.02989032 -0.02368224\n",
      "  0.00377964 -0.00597609  0.02239742 -0.05422151 -0.06210215 -0.01282449\n",
      "  0.07320333  0.05164192  0.02985599  0.0041664  -0.0228335  -0.011918\n",
      " -0.0091908   0.03879932 -0.01853716  0.07102756 -0.0257618  -0.00164309\n",
      "  0.04848462  0.04855954 -0.04207215 -0.01406762 -0.04826201 -0.02218045\n",
      "  0.00626847  0.01871544  0.00362846 -0.01597021  0.00231804  0.01276919\n",
      " -0.01902335 -0.0002609  -0.00440723 -0.01503221  0.00394467  0.02671148\n",
      "  0.0474726   0.00975547  0.00765413  0.00477457 -0.01176888  0.00356766\n",
      " -0.02104325 -0.01723069  0.01882391  0.01854822  0.03280892  0.04420246\n",
      " -0.00713899 -0.03832392  0.01125211 -0.02670418  0.03143423  0.01805509\n",
      "  0.02343484  0.06468233  0.01168666  0.07296823  0.01607189  0.00671697\n",
      "  0.00613197 -0.01105435  0.00365475 -0.03256373  0.00327291  0.02186167\n",
      "  0.00362815  0.03489011  0.01074022 -0.01635879  0.01912612  0.00364551\n",
      "  0.01627165 -0.03368334 -0.01259625 -0.0612012 ]\n"
     ]
    }
   ],
   "source": [
    "print(query_to_vec('полиција закон', model))"
   ]
  },
  {
   "cell_type": "code",
   "execution_count": 47,
   "metadata": {},
   "outputs": [],
   "source": [
    "def calculate_similarity_word2vec(X, model, query, top_k=10):\n",
    "    \"\"\" Vectorizes the `query` via `query_to_vec` and calculates the cosine similarity of\n",
    "    the `query` and `X` (all the documents) and returns the `top_k` similar documents.\"\"\"\n",
    "\n",
    "    # Vectorize the query to the same length as documents\n",
    "    query_vec = query_to_vec(query, model)\n",
    "    query_vec = query_vec.reshape(1,-1)\n",
    "    # Compute the cosine similarity between query_vec and all the documents\n",
    "    cosine_similarities = cosine_similarity(X,query_vec).flatten()\n",
    "    # Sort the similar documents from the most similar to less similar and return the indices\n",
    "    most_similar_doc_indices = np.argsort(cosine_similarities, axis=0)[:-top_k-1:-1]\n",
    "    return (most_similar_doc_indices, cosine_similarities)"
   ]
  },
  {
   "cell_type": "code",
   "execution_count": 48,
   "metadata": {},
   "outputs": [],
   "source": [
    "def show_similar_documents(df, cosine_similarities, similar_doc_indices):\n",
    "    \"\"\" Prints the most similar documents using indices in the `similar_doc_indices` vector.\"\"\"\n",
    "    counter = 1\n",
    "    for index in similar_doc_indices:\n",
    "        print('Top-{}, Similarity = {}'.format(counter, cosine_similarities[index]))\n",
    "        print('body: {}, '.format(df[index]))\n",
    "        print()\n",
    "        counter += 1"
   ]
  },
  {
   "cell_type": "code",
   "execution_count": 101,
   "metadata": {
    "scrolled": true
   },
   "outputs": [
    {
     "name": "stdout",
     "output_type": "stream",
     "text": [
      "search time: 12.37 ms\n",
      "\n",
      "Top-1, Similarity = 0.3647439479827881\n",
      "body: 299.html, \n",
      "\n",
      "Top-2, Similarity = 0.32522052526474\n",
      "body: 1075.html, \n",
      "\n",
      "Top-3, Similarity = 0.2835598587989807\n",
      "body: 47.html, \n",
      "\n",
      "Top-4, Similarity = 0.26462653279304504\n",
      "body: 1165.html, \n",
      "\n",
      "Top-5, Similarity = 0.25245144963264465\n",
      "body: 717.html, \n",
      "\n",
      "Top-6, Similarity = 0.24468496441841125\n",
      "body: 611.html, \n",
      "\n",
      "Top-7, Similarity = 0.24096600711345673\n",
      "body: 468.html, \n",
      "\n",
      "Top-8, Similarity = 0.23778550326824188\n",
      "body: 620.html, \n",
      "\n",
      "Top-9, Similarity = 0.23740005493164062\n",
      "body: 305.html, \n",
      "\n",
      "Top-10, Similarity = 0.22338607907295227\n",
      "body: 1299.html, \n",
      "\n"
     ]
    }
   ],
   "source": [
    "user_question = 'порез платити цена камата'\n",
    "search_start = time.time()\n",
    "sim_vecs, cosine_similarities = calculate_similarity_word2vec(X, model, user_question)\n",
    "search_time = time.time() - search_start\n",
    "print(\"search time: {:.2f} ms\".format(search_time * 1000))\n",
    "print()\n",
    "show_similar_documents(list(dataset.keys()), cosine_similarities, sim_vecs)"
   ]
  },
  {
   "cell_type": "code",
   "execution_count": 97,
   "metadata": {},
   "outputs": [],
   "source": [
    "query = '''\n",
    " ЗАКОН\n",
    "\n",
    "о давању контрагаранције Републике Србије Србији и Црној Гори по кредиту Међународног удружења за развој (Кредит за развој приватног и финансијског сектора)\n",
    "\n",
    "„Службени гласник РС”, број 34 од 18. априла 2006.\n",
    "\n",
    "Члан 1.\n",
    "\n",
    "Република Србија преузима обавезу да као контрагарант измири обавезе Србије и Црне Горе, у износу од 68.100.000,00 специјалних права вучења, по основу Споразума о кредиту за развој – Кредит за развој приватног и финансијског сектора између Савезне Републике Југославије и Међународног удружења за развој, потписаног 4. јуна 2002. године, који је потврђен Законом о потврђивању Споразума о кредиту за развој – Кредит за развој приватног и финансијског сектора између Савезне Републике Југославије и Међународног удружења за развој („Службени лист СРЈ – Међународни уговори”, број 6/02).\n",
    "\n",
    "Члан 2.\n",
    "\n",
    "Контрагаранција из члана 1. овог закона даје се Србији и Црној Гори, на име обавезе из Закона о задужењу Савезне Републике Југославије код Међународног удружења за развој („Службени лист СРЈ”, број 36/02).\n",
    "\n",
    "Члан 3.\n",
    "\n",
    "Корисник кредита по основу Споразума о кредиту за развој из члана 1. овог закона је Република Србија (у даљем тексту: Корисник кредита).\n",
    "\n",
    "Члан 4.\n",
    "\n",
    "Средства за отплату кредита по основу Споразума о кредиту за развој из члана 1. овог закона, обезбедиће Корисник кредита.\n",
    "\n",
    "Корисник кредита је дужан да средства за отплату кредита обезбеђује према плану отплате за сва повучена средства, у износу који укључује доспелу главницу, трошкове на одобрена средства, манипулативне трошкове кредита и остале трошкове.\n",
    "\n",
    "Корисник кредита ће обезбеђивати средства за отплату кредита у буџету Републике Србије и вршити уплату доспелих обавеза на посебан рачун Србије и Црне Горе код Народне банке Србије, са искључивом наменом отплате кредита.\n",
    "\n",
    "Члан 5.\n",
    "\n",
    "Овај закон ступа на снагу осмог дана од дана објављивања у „Службеном гласнику Републике Србије”.\n",
    "'''"
   ]
  },
  {
   "cell_type": "code",
   "execution_count": null,
   "metadata": {},
   "outputs": [],
   "source": []
  }
 ],
 "metadata": {
  "kernelspec": {
   "display_name": "Python 3",
   "language": "python",
   "name": "python3"
  },
  "language_info": {
   "codemirror_mode": {
    "name": "ipython",
    "version": 3
   },
   "file_extension": ".py",
   "mimetype": "text/x-python",
   "name": "python",
   "nbconvert_exporter": "python",
   "pygments_lexer": "ipython3",
   "version": "3.8.3"
  }
 },
 "nbformat": 4,
 "nbformat_minor": 4
}
